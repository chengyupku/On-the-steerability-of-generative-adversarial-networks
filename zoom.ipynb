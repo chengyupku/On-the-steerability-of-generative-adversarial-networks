{
  "nbformat": 4,
  "nbformat_minor": 0,
  "metadata": {
    "colab": {
      "name": "test.ipynb",
      "provenance": [],
      "collapsed_sections": [],
      "machine_shape": "hm",
      "authorship_tag": "ABX9TyPv6p/Nheefzg94KeM1A7yw",
      "include_colab_link": true
    },
    "kernelspec": {
      "name": "python3",
      "display_name": "Python 3"
    }
  },
  "cells": [
    {
      "cell_type": "markdown",
      "metadata": {
        "id": "view-in-github",
        "colab_type": "text"
      },
      "source": [
        "<a href=\"https://colab.research.google.com/github/chengyupku/On-the-steerability-of-generative-adversarial-networks/blob/master/test.ipynb\" target=\"_parent\"><img src=\"https://colab.research.google.com/assets/colab-badge.svg\" alt=\"Open In Colab\"/></a>"
      ]
    },
    {
      "cell_type": "code",
      "metadata": {
        "id": "_Wk23w1bcf0G",
        "colab_type": "code",
        "colab": {}
      },
      "source": [
        "!pip install --upgrade tensorflow"
      ],
      "execution_count": 0,
      "outputs": []
    },
    {
      "cell_type": "code",
      "metadata": {
        "id": "3kJBXAkFcBhZ",
        "colab_type": "code",
        "colab": {}
      },
      "source": [
        "!pip install tensorlayer\n"
      ],
      "execution_count": 0,
      "outputs": []
    },
    {
      "cell_type": "code",
      "metadata": {
        "id": "UzgesjW2YJnm",
        "colab_type": "code",
        "colab": {}
      },
      "source": [
        "lr=0.0001\n",
        "num_samples=200"
      ],
      "execution_count": 0,
      "outputs": []
    },
    {
      "cell_type": "code",
      "metadata": {
        "id": "BIRwQVLlYgIg",
        "colab_type": "code",
        "colab": {}
      },
      "source": [
        "import os\n",
        "import io\n",
        "import IPython.display\n",
        "import numpy as np\n",
        "import PIL.Image\n",
        "import tensorflow as tf\n",
        "import tensorflow_hub as hub\n",
        "import cv2\n",
        "import time\n",
        "import tensorlayer as tl\n",
        "import time"
      ],
      "execution_count": 0,
      "outputs": []
    },
    {
      "cell_type": "code",
      "metadata": {
        "id": "hYmPAWeUc_5P",
        "colab_type": "code",
        "outputId": "3605ab30-96d8-4ab5-f75e-9379a605ef03",
        "colab": {
          "base_uri": "https://localhost:8080/",
          "height": 35
        }
      },
      "source": [
        "tf.__version__"
      ],
      "execution_count": 5,
      "outputs": [
        {
          "output_type": "execute_result",
          "data": {
            "text/plain": [
              "'2.1.0'"
            ]
          },
          "metadata": {
            "tags": []
          },
          "execution_count": 5
        }
      ]
    },
    {
      "cell_type": "code",
      "metadata": {
        "id": "HDvI4SsJBMFZ",
        "colab_type": "code",
        "colab": {}
      },
      "source": [
        "hub_url='https://tfhub.dev/deepmind/biggan-256/2'\n",
        "hub_layer=hub.KerasLayer(hub_url)"
      ],
      "execution_count": 0,
      "outputs": []
    },
    {
      "cell_type": "code",
      "metadata": {
        "id": "wq_QtnuxfoTk",
        "colab_type": "code",
        "colab": {}
      },
      "source": [
        "model=tf.keras.Sequential()\n",
        "model.add(hub_layer)\n",
        "trunc=1.0\n",
        "batch_start=0\n",
        "batch_size=8\n",
        "Nsliders=1\n",
        "w = tf.Variable(np.random.normal(0.0, 0.1, [1, 140, Nsliders]),\n",
        "        name='walk', dtype=np.float32)\n",
        "img_size=256\n",
        "num_channels=3\n",
        "optimizer=tf.keras.optimizers.Adam(lr)"
      ],
      "execution_count": 0,
      "outputs": []
    },
    {
      "cell_type": "code",
      "metadata": {
        "id": "fQNQfFvOpoIC",
        "colab_type": "code",
        "colab": {}
      },
      "source": [
        "def get_target_np(outputs_zs, alpha):\n",
        "    \n",
        "    mask_fn = np.ones(outputs_zs.shape)\n",
        "    \n",
        "    if alpha == 1:\n",
        "        mask_fn=tf.convert_to_tensor(mask_fn,dtype=tf.float32)\n",
        "        return outputs_zs, mask_fn\n",
        "    \n",
        "    new_size = int(alpha*img_size)\n",
        "    outputs_zs_array=outputs_zs.numpy()\n",
        "    ## crop\n",
        "    if alpha < 1:\n",
        "        output_cropped = outputs_zs_array[:,img_size//2-new_size//2:img_size//2+new_size//2, img_size//2-new_size//2:img_size//2+new_size//2,:]\n",
        "        mask_cropped = mask_fn\n",
        "    \n",
        "    ## padding\n",
        "    else:\n",
        "        output_cropped = np.zeros((outputs_zs.shape[0], new_size, new_size, outputs_zs.shape[3]))\n",
        "        mask_cropped = np.zeros((outputs_zs.shape[0], new_size, new_size, outputs_zs.shape[3]))\n",
        "        output_cropped[:, new_size//2-img_size//2:new_size//2+img_size//2, new_size//2-img_size//2:new_size//2+img_size//2,:] = outputs_zs_array\n",
        "        mask_cropped[:, new_size//2-img_size//2:new_size//2+img_size//2, new_size//2-img_size//2:new_size//2+img_size//2,:] = mask_fn\n",
        "    \n",
        "    ## Resize\n",
        "    target_fn = np.zeros(outputs_zs.shape)\n",
        "    mask_out = np.zeros(outputs_zs.shape)\n",
        "    for i in range(outputs_zs.shape[0]):\n",
        "        target_fn[i,:,:,:] = cv2.resize(output_cropped[i,:,:,:], (img_size, img_size), interpolation = cv2.INTER_LINEAR)\n",
        "        mask_out[i,:,:,:] = cv2.resize(mask_cropped[i,:,:,:], (img_size, img_size), interpolation = cv2.INTER_LINEAR)\n",
        "        \n",
        "    mask_out[np.nonzero(mask_out)] = 1.\n",
        "    assert(np.setdiff1d(mask_out, [0., 1.]).size == 0)\n",
        "    target_fn=tf.convert_to_tensor(target_fn,dtype=tf.float32)\n",
        "    mask_out=tf.convert_to_tensor(mask_out,dtype=tf.float32)\n",
        "    return target_fn, mask_out"
      ],
      "execution_count": 0,
      "outputs": []
    },
    {
      "cell_type": "code",
      "metadata": {
        "id": "qHRoBRkhpq3X",
        "colab_type": "code",
        "colab": {}
      },
      "source": [
        "def train():\n",
        "  trunc=1.0\n",
        "  zs=trunc*tf.random.truncated_normal([num_samples,140])\n",
        "  ys=tf.random.uniform([num_samples],maxval=1000, dtype=tf.int32)\n",
        "  ys=tf.one_hot(ys,1000)\n",
        "  Loss_sum=0\n",
        "  n_epoch=1\n",
        "  Loss_sum_iter=0\n",
        "  optim_iter=0\n",
        "  batch_size=8\n",
        "  for epoch in range(n_epoch):\n",
        "    for batch_start in range(0,num_samples,batch_size):\n",
        "      coin=np.random.uniform(0,1)\n",
        "      if coin <=0.5:\n",
        "        alpha_val=np.random.uniform(0.25,1.)\n",
        "      else:\n",
        "        alpha_val=np.random.uniform(1.,4.)\n",
        "      s=slice(batch_start,min(num_samples,batch_start+batch_size))\n",
        "      out_zs=model(dict(y=ys[s],z=zs[s],truncation=trunc))\n",
        "      out_zs=tf.cast(out_zs,tf.float32)\n",
        "      print('go on')\n",
        "      target_fn,mask_out=get_target_np(out_zs,alpha_val)\n",
        "      alpha_val_for_graph = np.ones((zs[s].shape[0], Nsliders)) * np.log(alpha_val)\n",
        "      z1=zs[s]\n",
        "      with tf.GradientTape() as tape:\n",
        "        for i in range(Nsliders):\n",
        "          tmp=tf.expand_dims(alpha_val_for_graph[:,i],axis=1)\n",
        "          tmp=tf.cast(tmp,tf.float32)\n",
        "          z1=z1+tmp*w[:,:,i] \n",
        "          transout_zs=model(dict(y=ys[s],z=z1,truncation=trunc))\n",
        "          transout_zs=tf.cast(transout_zs,tf.float32)\n",
        "          loss=tf.compat.v1.losses.compute_weighted_loss(tf.square(transout_zs-target_fn),weights=mask_out)\n",
        "      grads=tape.gradient(loss,[w])\n",
        "      optimizer.apply_gradients(grads_and_vars=zip(grads,[w]))"
      ],
      "execution_count": 0,
      "outputs": []
    },
    {
      "cell_type": "code",
      "metadata": {
        "id": "bMRezVrWqdqC",
        "colab_type": "code",
        "colab": {}
      },
      "source": [
        "train()"
      ],
      "execution_count": 0,
      "outputs": []
    }
  ]
}
